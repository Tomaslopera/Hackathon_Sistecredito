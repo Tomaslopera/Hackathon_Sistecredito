{
 "cells": [
  {
   "cell_type": "code",
   "execution_count": 20,
   "metadata": {},
   "outputs": [],
   "source": [
    "import pandas as pd\n",
    "import matplotlib.pyplot as plt\n",
    "import numpy as np\n",
    "import seaborn as sns"
   ]
  },
  {
   "cell_type": "code",
   "execution_count": 24,
   "metadata": {},
   "outputs": [
    {
     "data": {
      "text/html": [
       "<div>\n",
       "<style scoped>\n",
       "    .dataframe tbody tr th:only-of-type {\n",
       "        vertical-align: middle;\n",
       "    }\n",
       "\n",
       "    .dataframe tbody tr th {\n",
       "        vertical-align: top;\n",
       "    }\n",
       "\n",
       "    .dataframe thead th {\n",
       "        text-align: right;\n",
       "    }\n",
       "</style>\n",
       "<table border=\"1\" class=\"dataframe\">\n",
       "  <thead>\n",
       "    <tr style=\"text-align: right;\">\n",
       "      <th></th>\n",
       "      <th>Fecha_Inicio</th>\n",
       "      <th>Fecha_Fin</th>\n",
       "      <th>Duracion</th>\n",
       "      <th>Tema</th>\n",
       "      <th>Respuesta</th>\n",
       "      <th>Agente_ID</th>\n",
       "    </tr>\n",
       "  </thead>\n",
       "  <tbody>\n",
       "    <tr>\n",
       "      <th>0</th>\n",
       "      <td>17/10/24 19:12</td>\n",
       "      <td>18/10/24 00:40</td>\n",
       "      <td>19726.026</td>\n",
       "      <td>NaN</td>\n",
       "      <td>NaN</td>\n",
       "      <td>NaN</td>\n",
       "    </tr>\n",
       "    <tr>\n",
       "      <th>1</th>\n",
       "      <td>17/10/24 19:24</td>\n",
       "      <td>18/10/24 00:27</td>\n",
       "      <td>18206.261</td>\n",
       "      <td>NaN</td>\n",
       "      <td>NaN</td>\n",
       "      <td>NaN</td>\n",
       "    </tr>\n",
       "    <tr>\n",
       "      <th>2</th>\n",
       "      <td>17/10/24 19:28</td>\n",
       "      <td>18/10/24 02:13</td>\n",
       "      <td>24272.567</td>\n",
       "      <td>NaN</td>\n",
       "      <td>NaN</td>\n",
       "      <td>NaN</td>\n",
       "    </tr>\n",
       "    <tr>\n",
       "      <th>3</th>\n",
       "      <td>17/10/24 19:29</td>\n",
       "      <td>18/10/24 00:00</td>\n",
       "      <td>16230.376</td>\n",
       "      <td>NaN</td>\n",
       "      <td>NaN</td>\n",
       "      <td>NaN</td>\n",
       "    </tr>\n",
       "    <tr>\n",
       "      <th>4</th>\n",
       "      <td>17/10/24 19:35</td>\n",
       "      <td>18/10/24 00:19</td>\n",
       "      <td>17057.885</td>\n",
       "      <td>NaN</td>\n",
       "      <td>NaN</td>\n",
       "      <td>NaN</td>\n",
       "    </tr>\n",
       "    <tr>\n",
       "      <th>...</th>\n",
       "      <td>...</td>\n",
       "      <td>...</td>\n",
       "      <td>...</td>\n",
       "      <td>...</td>\n",
       "      <td>...</td>\n",
       "      <td>...</td>\n",
       "    </tr>\n",
       "    <tr>\n",
       "      <th>1580382</th>\n",
       "      <td>31/10/24 23:54</td>\n",
       "      <td>1/11/24 03:55</td>\n",
       "      <td>14479.455</td>\n",
       "      <td>NaN</td>\n",
       "      <td>NaN</td>\n",
       "      <td>NaN</td>\n",
       "    </tr>\n",
       "    <tr>\n",
       "      <th>1580383</th>\n",
       "      <td>31/10/24 23:54</td>\n",
       "      <td>1/11/24 03:56</td>\n",
       "      <td>14497.750</td>\n",
       "      <td>NaN</td>\n",
       "      <td>NaN</td>\n",
       "      <td>NaN</td>\n",
       "    </tr>\n",
       "    <tr>\n",
       "      <th>1580384</th>\n",
       "      <td>31/10/24 23:56</td>\n",
       "      <td>1/11/24 00:57</td>\n",
       "      <td>3624.499</td>\n",
       "      <td>NaN</td>\n",
       "      <td>NaN</td>\n",
       "      <td>NaN</td>\n",
       "    </tr>\n",
       "    <tr>\n",
       "      <th>1580385</th>\n",
       "      <td>31/10/24 23:57</td>\n",
       "      <td>1/11/24 00:03</td>\n",
       "      <td>376.500</td>\n",
       "      <td>NaN</td>\n",
       "      <td>Isabot Fuera de Horario de Atención</td>\n",
       "      <td>NaN</td>\n",
       "    </tr>\n",
       "    <tr>\n",
       "      <th>1580386</th>\n",
       "      <td>31/10/24 23:59</td>\n",
       "      <td>1/11/24 04:02</td>\n",
       "      <td>14566.800</td>\n",
       "      <td>NaN</td>\n",
       "      <td>Isabot Fuera de Horario de Atención</td>\n",
       "      <td>NaN</td>\n",
       "    </tr>\n",
       "  </tbody>\n",
       "</table>\n",
       "<p>1580387 rows × 6 columns</p>\n",
       "</div>"
      ],
      "text/plain": [
       "           Fecha_Inicio       Fecha_Fin   Duracion Tema  \\\n",
       "0        17/10/24 19:12  18/10/24 00:40  19726.026  NaN   \n",
       "1        17/10/24 19:24  18/10/24 00:27  18206.261  NaN   \n",
       "2        17/10/24 19:28  18/10/24 02:13  24272.567  NaN   \n",
       "3        17/10/24 19:29  18/10/24 00:00  16230.376  NaN   \n",
       "4        17/10/24 19:35  18/10/24 00:19  17057.885  NaN   \n",
       "...                 ...             ...        ...  ...   \n",
       "1580382  31/10/24 23:54   1/11/24 03:55  14479.455  NaN   \n",
       "1580383  31/10/24 23:54   1/11/24 03:56  14497.750  NaN   \n",
       "1580384  31/10/24 23:56   1/11/24 00:57   3624.499  NaN   \n",
       "1580385  31/10/24 23:57   1/11/24 00:03    376.500  NaN   \n",
       "1580386  31/10/24 23:59   1/11/24 04:02  14566.800  NaN   \n",
       "\n",
       "                                   Respuesta  Agente_ID  \n",
       "0                                        NaN        NaN  \n",
       "1                                        NaN        NaN  \n",
       "2                                        NaN        NaN  \n",
       "3                                        NaN        NaN  \n",
       "4                                        NaN        NaN  \n",
       "...                                      ...        ...  \n",
       "1580382                                  NaN        NaN  \n",
       "1580383                                  NaN        NaN  \n",
       "1580384                                  NaN        NaN  \n",
       "1580385  Isabot Fuera de Horario de Atención        NaN  \n",
       "1580386  Isabot Fuera de Horario de Atención        NaN  \n",
       "\n",
       "[1580387 rows x 6 columns]"
      ]
     },
     "execution_count": 24,
     "metadata": {},
     "output_type": "execute_result"
    }
   ],
   "source": [
    "df_historico = pd.read_csv('../Hackathon Sistecredito/Datasets/HistoricoContactCenter.csv')\n",
    "df_historico"
   ]
  },
  {
   "cell_type": "code",
   "execution_count": 25,
   "metadata": {},
   "outputs": [
    {
     "name": "stdout",
     "output_type": "stream",
     "text": [
      "<class 'pandas.core.frame.DataFrame'>\n",
      "RangeIndex: 1580387 entries, 0 to 1580386\n",
      "Data columns (total 6 columns):\n",
      " #   Column        Non-Null Count    Dtype  \n",
      "---  ------        --------------    -----  \n",
      " 0   Fecha_Inicio  1580387 non-null  object \n",
      " 1   Fecha_Fin     1579103 non-null  object \n",
      " 2   Duracion      1579103 non-null  float64\n",
      " 3   Tema          116851 non-null   object \n",
      " 4   Respuesta     138296 non-null   object \n",
      " 5   Agente_ID     116850 non-null   float64\n",
      "dtypes: float64(2), object(4)\n",
      "memory usage: 72.3+ MB\n"
     ]
    }
   ],
   "source": [
    "df_historico.info()"
   ]
  },
  {
   "cell_type": "code",
   "execution_count": 26,
   "metadata": {},
   "outputs": [
    {
     "data": {
      "text/plain": [
       "Fecha_Inicio          0\n",
       "Fecha_Fin          1284\n",
       "Duracion           1284\n",
       "Tema            1463536\n",
       "Respuesta       1442091\n",
       "Agente_ID       1463537\n",
       "dtype: int64"
      ]
     },
     "execution_count": 26,
     "metadata": {},
     "output_type": "execute_result"
    }
   ],
   "source": [
    "df_historico.isnull().sum()"
   ]
  },
  {
   "cell_type": "code",
   "execution_count": 27,
   "metadata": {},
   "outputs": [
    {
     "name": "stderr",
     "output_type": "stream",
     "text": [
      "/var/folders/ph/kk5ffp952hx0h94c23f3_n7r0000gn/T/ipykernel_11137/2717942960.py:1: UserWarning: Could not infer format, so each element will be parsed individually, falling back to `dateutil`. To ensure parsing is consistent and as-expected, please specify a format.\n",
      "  df_historico['Fecha_Inicio'] = pd.to_datetime(df_historico['Fecha_Inicio'])\n",
      "/var/folders/ph/kk5ffp952hx0h94c23f3_n7r0000gn/T/ipykernel_11137/2717942960.py:2: UserWarning: Could not infer format, so each element will be parsed individually, falling back to `dateutil`. To ensure parsing is consistent and as-expected, please specify a format.\n",
      "  df_historico['Fecha_Fin'] = pd.to_datetime(df_historico['Fecha_Fin'])\n"
     ]
    },
    {
     "name": "stdout",
     "output_type": "stream",
     "text": [
      "<class 'pandas.core.frame.DataFrame'>\n",
      "RangeIndex: 1580387 entries, 0 to 1580386\n",
      "Data columns (total 6 columns):\n",
      " #   Column        Non-Null Count    Dtype         \n",
      "---  ------        --------------    -----         \n",
      " 0   Fecha_Inicio  1580387 non-null  datetime64[ns]\n",
      " 1   Fecha_Fin     1579103 non-null  datetime64[ns]\n",
      " 2   Duracion      1579103 non-null  float64       \n",
      " 3   Tema          116851 non-null   object        \n",
      " 4   Respuesta     138296 non-null   object        \n",
      " 5   Agente_ID     116850 non-null   float64       \n",
      "dtypes: datetime64[ns](2), float64(2), object(2)\n",
      "memory usage: 72.3+ MB\n"
     ]
    }
   ],
   "source": [
    "df_historico['Fecha_Inicio'] = pd.to_datetime(df_historico['Fecha_Inicio'])\n",
    "df_historico['Fecha_Fin'] = pd.to_datetime(df_historico['Fecha_Fin'])\n",
    "df_historico.info()"
   ]
  },
  {
   "cell_type": "code",
   "execution_count": 28,
   "metadata": {},
   "outputs": [
    {
     "name": "stderr",
     "output_type": "stream",
     "text": [
      "/var/folders/ph/kk5ffp952hx0h94c23f3_n7r0000gn/T/ipykernel_11137/1675229421.py:2: FutureWarning: Series.fillna with 'method' is deprecated and will raise in a future version. Use obj.ffill() or obj.bfill() instead.\n",
      "  df_historico['Fecha_Fin'] = df_historico['Fecha_Fin'].fillna(method='ffill')\n"
     ]
    },
    {
     "data": {
      "text/plain": [
       "Fecha_Inicio          0\n",
       "Fecha_Fin             0\n",
       "Duracion           1284\n",
       "Tema            1463536\n",
       "Respuesta       1442091\n",
       "Agente_ID       1463537\n",
       "dtype: int64"
      ]
     },
     "execution_count": 28,
     "metadata": {},
     "output_type": "execute_result"
    }
   ],
   "source": [
    "# Llenar valores nulos\n",
    "df_historico['Fecha_Fin'] = df_historico['Fecha_Fin'].fillna(method='ffill')\n",
    "df_historico.isnull().sum()"
   ]
  },
  {
   "cell_type": "code",
   "execution_count": null,
   "metadata": {},
   "outputs": [
    {
     "data": {
      "text/plain": [
       "0          5.479452\n",
       "1          5.057295\n",
       "2          6.742380\n",
       "3          4.508438\n",
       "4          4.738301\n",
       "             ...   \n",
       "1580382    4.022071\n",
       "1580383    4.027153\n",
       "1580384    1.006805\n",
       "1580385    0.104583\n",
       "1580386    4.046333\n",
       "Name: Duracion, Length: 1580387, dtype: float64"
      ]
     },
     "execution_count": 30,
     "metadata": {},
     "output_type": "execute_result"
    }
   ],
   "source": [
    "# Llenar valor nulos con infinito\n",
    "df_historico['Duracion'] = pd.to_numeric(df_historico['Duracion'], errors='coerce') / 60\n",
    "duracion = df_historico['Duracion']"
   ]
  },
  {
   "cell_type": "code",
   "execution_count": null,
   "metadata": {},
   "outputs": [],
   "source": [
    "# Análisis estadístico duración\n",
    "print()"
   ]
  },
  {
   "cell_type": "code",
   "execution_count": 31,
   "metadata": {},
   "outputs": [],
   "source": [
    "df_cleaned = df_historico.drop(columns=['Agente_ID'])"
   ]
  },
  {
   "cell_type": "code",
   "execution_count": 33,
   "metadata": {},
   "outputs": [
    {
     "data": {
      "image/png": "[encoded data removed]",
      "text/plain": [
       "<Figure size 1000x600 with 1 Axes>"
      ]
     },
     "metadata": {},
     "output_type": "display_data"
    }
   ],
   "source": [
    "# Gráfica duración llamadas\n",
    "plt.figure(figsize=(10, 6))\n",
    "sns.histplot(df_cleaned['Duracion'].dropna(), bins=30, kde=True)\n",
    "plt.title('Duración de las llamadas')\n",
    "plt.xlabel('Duración (minutos)')\n",
    "plt.ylabel('Frecuencia')\n",
    "plt.show()"
   ]
  }
 ],
 "metadata": {
  "kernelspec": {
   "display_name": "data-science",
   "language": "python",
   "name": "python3"
  },
  "language_info": {
   "codemirror_mode": {
    "name": "ipython",
    "version": 3
   },
   "file_extension": ".py",
   "mimetype": "text/x-python",
   "name": "python",
   "nbconvert_exporter": "python",
   "pygments_lexer": "ipython3",
   "version": "3.11.9"
  }
 },
 "nbformat": 4,
 "nbformat_minor": 2
}
